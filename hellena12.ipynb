{
 "cells": [
  {
   "cell_type": "code",
   "execution_count": 1,
   "id": "46bac0ea-a9ea-429a-8816-2046f8cd2e08",
   "metadata": {},
   "outputs": [
    {
     "name": "stdin",
     "output_type": "stream",
     "text": [
      "Masukkan jumlah kategori:  2\n",
      "Masukkan nama kategori:  Finance\n"
     ]
    },
    {
     "name": "stdout",
     "output_type": "stream",
     "text": [
      "Masukkan 5 nama aplikasi di kategori Finance\n"
     ]
    },
    {
     "name": "stdin",
     "output_type": "stream",
     "text": [
      "Nama aplikasi:  RTI Saham\n",
      "Nama aplikasi:  Mirae\n",
      "Nama aplikasi:  IPOT\n",
      "Nama aplikasi:  Poems\n",
      "Nama aplikasi:  Calculator\n",
      "Masukkan nama kategori:  Utilities\n"
     ]
    },
    {
     "name": "stdout",
     "output_type": "stream",
     "text": [
      "Masukkan 5 nama aplikasi di kategori Utilities\n"
     ]
    },
    {
     "name": "stdin",
     "output_type": "stream",
     "text": [
      "Nama aplikasi:  Photos\n",
      "Nama aplikasi:  Weather\n",
      "Nama aplikasi:  Calculator\n",
      "Nama aplikasi:  Camera\n",
      "Nama aplikasi:  Notes\n"
     ]
    },
    {
     "name": "stdout",
     "output_type": "stream",
     "text": [
      "Data aplikasi:\n",
      "{'Finance': ['RTI Saham', 'Mirae', 'IPOT', 'Poems', 'Calculator'], 'Utilities': ['Photos', 'Weather', 'Calculator', 'Camera', 'Notes']}\n",
      "\n",
      "Daftar aplikasi dari setiap kategori:\n",
      "Kategori 1: {'IPOT', 'Poems', 'Calculator', 'RTI Saham', 'Mirae'}\n",
      "Kategori 2: {'Photos', 'Weather', 'Calculator', 'Camera', 'Notes'}\n",
      "\n",
      "Aplikasi yang hanya muncul di satu kategori saja: set()\n",
      "\n",
      "Aplikasi yang muncul tepat di dua kategori sekaligus: {'Calculator'}\n"
     ]
    }
   ],
   "source": [
    "n = int(input('Masukkan jumlah kategori: '))\n",
    "data_aplikasi = {}\n",
    "\n",
    "for i in range(n):\n",
    "    nama_kategori = input('Masukkan nama kategori: ')\n",
    "    print('Masukkan 5 nama aplikasi di kategori', nama_kategori)\n",
    "    \n",
    "    aplikasi = []\n",
    "    for j in range(5):\n",
    "        nama_aplikasi = input('Nama aplikasi: ')\n",
    "        aplikasi.append(nama_aplikasi)\n",
    "    \n",
    "    data_aplikasi[nama_kategori] = aplikasi\n",
    "\n",
    "print(\"Data aplikasi:\")\n",
    "print(data_aplikasi)\n",
    "\n",
    "daftar_aplikasi_list = [set(aplikasi) for aplikasi in data_aplikasi.values()]\n",
    "\n",
    "print(\"\\nDaftar aplikasi dari setiap kategori:\")\n",
    "for i, aplikasi in enumerate(daftar_aplikasi_list, 1):\n",
    "    print(f\"Kategori {i}: {aplikasi}\")\n",
    "\n",
    "unique_apps = set()\n",
    "for apps in daftar_aplikasi_list:\n",
    "    unique_apps.update(apps)\n",
    "for apps in daftar_aplikasi_list:\n",
    "    unique_apps -= apps\n",
    "print(\"\\nAplikasi yang hanya muncul di satu kategori saja:\", unique_apps)\n",
    "\n",
    "common_apps = set()\n",
    "for apps in daftar_aplikasi_list:\n",
    "    common_apps.update(apps)\n",
    "for apps in daftar_aplikasi_list:\n",
    "    common_apps &= apps\n",
    "print(\"\\nAplikasi yang muncul tepat di dua kategori sekaligus:\", common_apps)\n"
   ]
  },
  {
   "cell_type": "code",
   "execution_count": 2,
   "id": "9bcf00e4-2bf9-430b-a11c-a43f4e9d936e",
   "metadata": {},
   "outputs": [
    {
     "name": "stdout",
     "output_type": "stream",
     "text": [
      "List sebelum konversi: [1, 2, 3, 4, 4, 5]\n",
      "Setelah dikonversi menjadi SET: {1, 2, 3, 4, 5}\n"
     ]
    }
   ],
   "source": [
    "# Contoh list\n",
    "list_angka = [1, 2, 3, 4, 4, 5]\n",
    "\n",
    "print(\"List sebelum konversi:\", list_angka)\n",
    "\n",
    "# Konversi list menjadi set\n",
    "contoh_set = set(list_angka)\n",
    "\n",
    "print(\"Setelah dikonversi menjadi SET:\", contoh_set)\n"
   ]
  },
  {
   "cell_type": "code",
   "execution_count": 3,
   "id": "f92f9493-bcb5-453f-b613-d50e852a59a8",
   "metadata": {},
   "outputs": [
    {
     "name": "stdout",
     "output_type": "stream",
     "text": [
      "set sebelum konversi: {1, 2, 3, 4, 5}\n",
      "Setelah dikonversi menjadi list: [1, 2, 3, 4, 5]\n"
     ]
    }
   ],
   "source": [
    "#contoh set\n",
    "my_set = {1, 2, 3, 4, 5}\n",
    "print(\"set sebelum konversi:\", my_set)\n",
    "\n",
    "# Mengonversi set menjadi list\n",
    "my_list = list(my_set)\n",
    "print(\"Setelah dikonversi menjadi list:\", my_list)"
   ]
  },
  {
   "cell_type": "code",
   "execution_count": 4,
   "id": "60202071-4902-4cad-b41a-ea1641d0ea40",
   "metadata": {},
   "outputs": [
    {
     "name": "stdout",
     "output_type": "stream",
     "text": [
      "tuple sebelum dikonversi: (1, 2, 3, 4, 5)\n",
      "setelah dikonversi menjadi set: {1, 2, 3, 4, 5}\n"
     ]
    }
   ],
   "source": [
    "my_tuple = (1, 2, 3, 4, 5)\n",
    "print(\"tuple sebelum dikonversi:\", my_tuple)\n",
    "\n",
    "# Mengonversi tuple menjadi set\n",
    "my_set = set(my_tuple)\n",
    "\n",
    "print(\"setelah dikonversi menjadi set:\", my_set)"
   ]
  },
  {
   "cell_type": "code",
   "execution_count": 5,
   "id": "545a6814-4d19-4e65-ae4e-e43119902d42",
   "metadata": {},
   "outputs": [
    {
     "name": "stdout",
     "output_type": "stream",
     "text": [
      "set sebelum dikonversi: {1, 2, 3, 4, 5}\n",
      "setelah dikonversi menjadi tuple: (1, 2, 3, 4, 5)\n"
     ]
    }
   ],
   "source": [
    "\n",
    "my_set = {1,2,3,4,5}\n",
    "print(\"set sebelum dikonversi:\", my_set)\n",
    "\n",
    "#  Mengonversi set menjadi tuple\n",
    "my_tuple = tuple(my_set)\n",
    "\n",
    "print(\"setelah dikonversi menjadi tuple:\", my_tuple)\n",
    "\n"
   ]
  },
  {
   "cell_type": "code",
   "execution_count": 8,
   "id": "d06dc991-87e2-4175-9f6d-a8b9e3ff4ee3",
   "metadata": {},
   "outputs": [
    {
     "name": "stdin",
     "output_type": "stream",
     "text": [
      "Masukkan nama file pertama:  file 1.txt\n",
      "Masukkan nama file kedua:  file2.txt\n"
     ]
    },
    {
     "name": "stdout",
     "output_type": "stream",
     "text": [
      "File 'file 1.txt' tidak ditemukan.\n",
      "Tidak ada kata yang muncul di kedua file.\n"
     ]
    }
   ],
   "source": [
    "def read_file(filename):\n",
    "    try:\n",
    "        with open(filename, 'r') as file:\n",
    "            text = file.read()\n",
    "            return text.lower().split()  \n",
    "    except FileNotFoundError:\n",
    "        print(f\"File '{filename}' tidak ditemukan.\")\n",
    "        return []\n",
    "    except Exception as e:\n",
    "        print(f\"Terjadi kesalahan saat membaca file '{filename}': {str(e)}\")\n",
    "        return []\n",
    "\n",
    "def main():\n",
    "    file1 = input(\"Masukkan nama file pertama: \")\n",
    "    file2 = input(\"Masukkan nama file kedua: \")\n",
    "\n",
    "    kata1 = read_file(file1)\n",
    "\n",
    "    kata2 = read_file(file2)\n",
    "\n",
    "    common_words = set(kata1) & set(kata2)\n",
    "    if common_words:\n",
    "        print(\"Kata-kata yang muncul di kedua file:\")\n",
    "        for word in sorted(common_words):\n",
    "            print(word)\n",
    "    else:\n",
    "        print(\"Tidak ada kata yang muncul di kedua file.\")\n",
    "\n",
    "if __name__ == \"__main__\":\n",
    "    main()\n"
   ]
  },
  {
   "cell_type": "code",
   "execution_count": null,
   "id": "b67b119d-b801-4ba9-9c3d-31f9f66971e8",
   "metadata": {},
   "outputs": [],
   "source": []
  }
 ],
 "metadata": {
  "kernelspec": {
   "display_name": "Python 3 (ipykernel)",
   "language": "python",
   "name": "python3"
  },
  "language_info": {
   "codemirror_mode": {
    "name": "ipython",
    "version": 3
   },
   "file_extension": ".py",
   "mimetype": "text/x-python",
   "name": "python",
   "nbconvert_exporter": "python",
   "pygments_lexer": "ipython3",
   "version": "3.11.7"
  }
 },
 "nbformat": 4,
 "nbformat_minor": 5
}
